{
 "cells": [
  {
   "cell_type": "code",
   "execution_count": 1,
   "metadata": {},
   "outputs": [],
   "source": [
    "# Data manipulation\n",
    "import pandas as pd\n",
    "import numpy as np\n",
    "\n",
    "# Elasticsearch API python\n",
    "from elasticsearch import Elasticsearch\n",
    "from elasticsearch import helpers\n",
    "\n",
    "# Env. Vars\n",
    "from dotenv import load_dotenv\n",
    "\n",
    "# System\n",
    "import os"
   ]
  },
  {
   "cell_type": "code",
   "execution_count": 2,
   "metadata": {},
   "outputs": [],
   "source": [
    "# Create the client instance\n",
    "load_dotenv('.env')\n",
    "\n",
    "host=os.getenv('ELASTICSEARCH_HOST')\n",
    "passwd = os.getenv('ELASTICSEARCH_PASSWORD')\n",
    "\n",
    "es = Elasticsearch([f'{host}:9200'],\n",
    "basic_auth=('elastic', passwd)\n",
    ")"
   ]
  },
  {
   "attachments": {},
   "cell_type": "markdown",
   "metadata": {},
   "source": [
    "### Criação e deleção de indíces"
   ]
  },
  {
   "cell_type": "code",
   "execution_count": 8,
   "metadata": {},
   "outputs": [
    {
     "name": "stderr",
     "output_type": "stream",
     "text": [
      "/tmp/ipykernel_55346/2375485600.py:2: DeprecationWarning: Passing transport options in the API method is deprecated. Use 'Elasticsearch.options()' instead.\n",
      "  es.indices.create(index='teste-ramon', ignore=400)\n"
     ]
    },
    {
     "data": {
      "text/plain": [
       "ObjectApiResponse({'acknowledged': True, 'shards_acknowledged': True, 'index': 'teste-ramon'})"
      ]
     },
     "execution_count": 8,
     "metadata": {},
     "output_type": "execute_result"
    }
   ],
   "source": [
    "# Criar index\n",
    "es.indices.create(index='teste-ramon', ignore=400)"
   ]
  },
  {
   "cell_type": "code",
   "execution_count": null,
   "metadata": {},
   "outputs": [],
   "source": [
    "# Criando index especificando o mapping e settings.\n",
    "es.indices.create(index='teste-ramon', mappings=mappings, settings=settings, ignore=400)"
   ]
  },
  {
   "cell_type": "code",
   "execution_count": 7,
   "metadata": {},
   "outputs": [
    {
     "name": "stderr",
     "output_type": "stream",
     "text": [
      "/tmp/ipykernel_55346/873045026.py:2: DeprecationWarning: Passing transport options in the API method is deprecated. Use 'Elasticsearch.options()' instead.\n",
      "  es.indices.delete(index='teste-ramon', ignore=[400, 404])\n"
     ]
    },
    {
     "data": {
      "text/plain": [
       "ObjectApiResponse({'acknowledged': True})"
      ]
     },
     "execution_count": 7,
     "metadata": {},
     "output_type": "execute_result"
    }
   ],
   "source": [
    "# Deletando index\n",
    "es.indices.delete(index='teste-ramon', ignore=[400, 404])"
   ]
  },
  {
   "attachments": {},
   "cell_type": "markdown",
   "metadata": {},
   "source": [
    "### Informações sobre os index"
   ]
  },
  {
   "cell_type": "code",
   "execution_count": 3,
   "metadata": {},
   "outputs": [
    {
     "data": {
      "text/plain": [
       "ObjectApiResponse({'name': 'elasticsearch', 'cluster_name': 'docker-cluster', 'cluster_uuid': '26HxHJtJTAKP5Sj1PFsSnA', 'version': {'number': '8.6.0', 'build_flavor': 'default', 'build_type': 'docker', 'build_hash': 'f67ef2df40237445caa70e2fef79471cc608d70d', 'build_date': '2023-01-04T09:35:21.782467981Z', 'build_snapshot': False, 'lucene_version': '9.4.2', 'minimum_wire_compatibility_version': '7.17.0', 'minimum_index_compatibility_version': '7.0.0'}, 'tagline': 'You Know, for Search'})"
      ]
     },
     "execution_count": 3,
     "metadata": {},
     "output_type": "execute_result"
    }
   ],
   "source": [
    "# Informações gerais da conexão do ES\n",
    "es.info()"
   ]
  },
  {
   "cell_type": "code",
   "execution_count": 4,
   "metadata": {},
   "outputs": [
    {
     "name": "stderr",
     "output_type": "stream",
     "text": [
      "/tmp/ipykernel_68928/3137342021.py:2: ElasticsearchWarning: this request accesses system indices: [.kibana_task_manager_8.6.0_001, .kibana_security_session_1, .apm-custom-link, .security-profile-8, .transform-internal-007, .fleet-enrollment-api-keys-7, .kibana_8.6.0_001, .apm-agent-configuration, .security-7, .fleet-policies-7], but in a future major version, direct access to system indices will be prevented by default\n",
      "  es.indices.get_alias(index=\"*\")\n"
     ]
    },
    {
     "data": {
      "text/plain": [
       "ObjectApiResponse({'.kibana_task_manager_8.6.0_001': {'aliases': {'.kibana_task_manager': {'is_hidden': True}, '.kibana_task_manager_8.6.0': {'is_hidden': True}}}, '.kibana_security_session_1': {'aliases': {'.kibana_security_session': {'is_hidden': True}}}, '.items-default-000001': {'aliases': {'.items-default': {'is_write_index': True}}}, 'produtos_cayena_testes_outer': {'aliases': {}}, 'produtos_cayena_train': {'aliases': {}}, 'felipe_teste': {'aliases': {}}, '.apm-custom-link': {'aliases': {}}, '.security-profile-8': {'aliases': {'.security-profile': {'is_hidden': True}}}, 'search_app_cayena': {'aliases': {}}, '.transform-notifications-000002': {'aliases': {'.transform-notifications-read': {'is_hidden': True}}}, 'produtos_cayena': {'aliases': {}}, '.transform-internal-007': {'aliases': {}}, '.fleet-enrollment-api-keys-7': {'aliases': {'.fleet-enrollment-api-keys': {'is_write_index': True, 'is_hidden': True}}}, '.lists-default-000001': {'aliases': {'.lists-default': {'is_write_index': True}}}, 'produtos_cayena_pm': {'aliases': {}}, 'validacao_cruzada_pm': {'aliases': {}}, '.kibana_8.6.0_001': {'aliases': {'.kibana': {'is_hidden': True}, '.kibana_8.6.0': {'is_hidden': True}}}, '.apm-agent-configuration': {'aliases': {}}, 'metrics-endpoint.metadata_current_default': {'aliases': {}}, '.security-7': {'aliases': {'.security': {'is_hidden': True}}}, '.kibana-event-log-8.6.0-000001': {'aliases': {'.kibana-event-log-8.6.0': {'is_write_index': False, 'is_hidden': True}}}, 'teste-ramon': {'aliases': {}}, 'ramon-teste': {'aliases': {}}, '.fleet-policies-7': {'aliases': {'.fleet-policies': {'is_write_index': True, 'is_hidden': True}}}, '.kibana-event-log-8.6.0-000002': {'aliases': {'.kibana-event-log-8.6.0': {'is_write_index': True, 'is_hidden': True}}}, '.metrics-endpoint.metadata_united_default': {'aliases': {}}})"
      ]
     },
     "execution_count": 4,
     "metadata": {},
     "output_type": "execute_result"
    }
   ],
   "source": [
    "# Ver todos os índices da instância\n",
    "es.indices.get_alias(index=\"*\")"
   ]
  },
  {
   "cell_type": "code",
   "execution_count": 6,
   "metadata": {},
   "outputs": [
    {
     "data": {
      "text/plain": [
       "ObjectApiResponse({'count': 8, '_shards': {'total': 1, 'successful': 1, 'skipped': 0, 'failed': 0}})"
      ]
     },
     "execution_count": 6,
     "metadata": {},
     "output_type": "execute_result"
    }
   ],
   "source": [
    "# Contar o número de documentos de uma outra forma\n",
    "es.count(index='teste-ramon')"
   ]
  },
  {
   "cell_type": "code",
   "execution_count": 7,
   "metadata": {},
   "outputs": [
    {
     "data": {
      "text/plain": [
       "TextApiResponse('1679166551 19:09:11 8\\n')"
      ]
     },
     "execution_count": 7,
     "metadata": {},
     "output_type": "execute_result"
    }
   ],
   "source": [
    "# Contar o número de documentos em um dado index\n",
    "es.cat.count(index='teste-ramon')"
   ]
  },
  {
   "cell_type": "code",
   "execution_count": 14,
   "metadata": {},
   "outputs": [
    {
     "data": {
      "text/plain": [
       "ObjectApiResponse({'_shards': {'total': 2, 'successful': 1, 'failed': 0}})"
      ]
     },
     "execution_count": 14,
     "metadata": {},
     "output_type": "execute_result"
    }
   ],
   "source": [
    "# Refresh index\n",
    "es.indices.refresh(index='teste-ramon')"
   ]
  },
  {
   "cell_type": "code",
   "execution_count": 15,
   "metadata": {},
   "outputs": [
    {
     "data": {
      "text/plain": [
       "ObjectApiResponse({'teste-ramon': {'aliases': {}, 'mappings': {}, 'settings': {'index': {'routing': {'allocation': {'include': {'_tier_preference': 'data_content'}}}, 'number_of_shards': '1', 'provided_name': 'teste-ramon', 'creation_date': '1679079154570', 'number_of_replicas': '1', 'uuid': 'z6QiqzCrQI6PqLCbpHP4ng', 'version': {'created': '8060099'}}}}})"
      ]
     },
     "execution_count": 15,
     "metadata": {},
     "output_type": "execute_result"
    }
   ],
   "source": [
    "# Informações sobre um index em específico\n",
    "es.indices.get(index=\"teste-ramon\")"
   ]
  },
  {
   "attachments": {},
   "cell_type": "markdown",
   "metadata": {},
   "source": [
    "### Criando index manualmente (um a um)"
   ]
  },
  {
   "cell_type": "code",
   "execution_count": 8,
   "metadata": {},
   "outputs": [],
   "source": [
    "doc = {\n",
    "    'genre': ['IMAX', 'sci-fi'],\n",
    "    'title': 'Insterstellar',\n",
    "    'year': 2014\n",
    "}"
   ]
  },
  {
   "cell_type": "code",
   "execution_count": 9,
   "metadata": {},
   "outputs": [
    {
     "data": {
      "text/plain": [
       "ObjectApiResponse({'_index': 'teste-ramon', '_id': '1', '_version': 2, 'result': 'updated', '_shards': {'total': 2, 'successful': 1, 'failed': 0}, '_seq_no': 8, '_primary_term': 1})"
      ]
     },
     "execution_count": 9,
     "metadata": {},
     "output_type": "execute_result"
    }
   ],
   "source": [
    "es.index(index='teste-ramon', id=1, document=doc)"
   ]
  },
  {
   "cell_type": "code",
   "execution_count": 18,
   "metadata": {},
   "outputs": [
    {
     "data": {
      "text/plain": [
       "ObjectApiResponse({'_index': 'teste-ramon', '_id': '1', '_version': 2, 'result': 'deleted', '_shards': {'total': 2, 'successful': 1, 'failed': 0}, '_seq_no': 1, '_primary_term': 1})"
      ]
     },
     "execution_count": 18,
     "metadata": {},
     "output_type": "execute_result"
    }
   ],
   "source": [
    "# Removendo um filme com id=1\n",
    "es.delete(index='teste-ramon', id=1)"
   ]
  },
  {
   "cell_type": "code",
   "execution_count": 10,
   "metadata": {},
   "outputs": [
    {
     "data": {
      "text/plain": [
       "{'genre': 'kids', 'title': 'The Lion King', 'year': 1998}"
      ]
     },
     "execution_count": 10,
     "metadata": {},
     "output_type": "execute_result"
    }
   ],
   "source": [
    "# Consulta do conteúdo no id=1 e no index='teste-ramon'\n",
    "res2 = es.get(index='teste-ramon', id=4)\n",
    "res2['_source']"
   ]
  },
  {
   "attachments": {},
   "cell_type": "markdown",
   "metadata": {},
   "source": [
    "### Adicionando vários filmes"
   ]
  },
  {
   "cell_type": "code",
   "execution_count": 11,
   "metadata": {},
   "outputs": [],
   "source": [
    "d = [\n",
    "    ['action', 'The Davinci Code', 2005],\n",
    "    ['sci-fi', 'Star Wars', 2005],\n",
    "    [['sci-fi', 'IMAX'], 'Insterstellar', 2014],\n",
    "    ['kids', 'Toy Story 1', 1995],\n",
    "    ['kids', 'The Lion King', 1998],\n",
    "    ['terror', 'Terrifier 2', 2022],\n",
    "    ['terror', 'Terrifier', 2019],\n",
    "    ['sci-fi', 'Star Trek', 2011]\n",
    "]"
   ]
  },
  {
   "cell_type": "code",
   "execution_count": 12,
   "metadata": {},
   "outputs": [],
   "source": [
    "filmes = pd.DataFrame(data=d, columns=['genre', 'title', 'year'])"
   ]
  },
  {
   "cell_type": "code",
   "execution_count": 13,
   "metadata": {},
   "outputs": [
    {
     "data": {
      "text/html": [
       "<div>\n",
       "<style scoped>\n",
       "    .dataframe tbody tr th:only-of-type {\n",
       "        vertical-align: middle;\n",
       "    }\n",
       "\n",
       "    .dataframe tbody tr th {\n",
       "        vertical-align: top;\n",
       "    }\n",
       "\n",
       "    .dataframe thead th {\n",
       "        text-align: right;\n",
       "    }\n",
       "</style>\n",
       "<table border=\"1\" class=\"dataframe\">\n",
       "  <thead>\n",
       "    <tr style=\"text-align: right;\">\n",
       "      <th></th>\n",
       "      <th>genre</th>\n",
       "      <th>title</th>\n",
       "      <th>year</th>\n",
       "    </tr>\n",
       "  </thead>\n",
       "  <tbody>\n",
       "    <tr>\n",
       "      <th>0</th>\n",
       "      <td>action</td>\n",
       "      <td>The Davinci Code</td>\n",
       "      <td>2005</td>\n",
       "    </tr>\n",
       "    <tr>\n",
       "      <th>1</th>\n",
       "      <td>sci-fi</td>\n",
       "      <td>Star Wars</td>\n",
       "      <td>2005</td>\n",
       "    </tr>\n",
       "    <tr>\n",
       "      <th>2</th>\n",
       "      <td>[sci-fi, IMAX]</td>\n",
       "      <td>Insterstellar</td>\n",
       "      <td>2014</td>\n",
       "    </tr>\n",
       "    <tr>\n",
       "      <th>3</th>\n",
       "      <td>kids</td>\n",
       "      <td>Toy Story 1</td>\n",
       "      <td>1995</td>\n",
       "    </tr>\n",
       "    <tr>\n",
       "      <th>4</th>\n",
       "      <td>kids</td>\n",
       "      <td>The Lion King</td>\n",
       "      <td>1998</td>\n",
       "    </tr>\n",
       "    <tr>\n",
       "      <th>5</th>\n",
       "      <td>terror</td>\n",
       "      <td>Terrifier 2</td>\n",
       "      <td>2022</td>\n",
       "    </tr>\n",
       "    <tr>\n",
       "      <th>6</th>\n",
       "      <td>terror</td>\n",
       "      <td>Terrifier</td>\n",
       "      <td>2019</td>\n",
       "    </tr>\n",
       "    <tr>\n",
       "      <th>7</th>\n",
       "      <td>sci-fi</td>\n",
       "      <td>Star Trek</td>\n",
       "      <td>2011</td>\n",
       "    </tr>\n",
       "  </tbody>\n",
       "</table>\n",
       "</div>"
      ],
      "text/plain": [
       "            genre             title  year\n",
       "0          action  The Davinci Code  2005\n",
       "1          sci-fi         Star Wars  2005\n",
       "2  [sci-fi, IMAX]     Insterstellar  2014\n",
       "3            kids       Toy Story 1  1995\n",
       "4            kids     The Lion King  1998\n",
       "5          terror       Terrifier 2  2022\n",
       "6          terror         Terrifier  2019\n",
       "7          sci-fi         Star Trek  2011"
      ]
     },
     "execution_count": 13,
     "metadata": {},
     "output_type": "execute_result"
    }
   ],
   "source": [
    "filmes"
   ]
  },
  {
   "cell_type": "code",
   "execution_count": 14,
   "metadata": {},
   "outputs": [
    {
     "data": {
      "text/plain": [
       "(8, [])"
      ]
     },
     "execution_count": 14,
     "metadata": {},
     "output_type": "execute_result"
    }
   ],
   "source": [
    "def generate_docs():\n",
    "    for idx, info in filmes.iterrows():\n",
    "        doc = {\n",
    "            '_index': 'teste-ramon',\n",
    "            '_id': idx,\n",
    "            '_source': {\n",
    "                'genre': info['genre'],\n",
    "                'title': info['title'],\n",
    "                'year': info['year']\n",
    "            }\n",
    "        }\n",
    "\n",
    "        yield doc\n",
    "\n",
    "helpers.bulk(es, generate_docs())"
   ]
  },
  {
   "attachments": {},
   "cell_type": "markdown",
   "metadata": {},
   "source": [
    "### Buscas no elasticsearch"
   ]
  },
  {
   "cell_type": "code",
   "execution_count": 15,
   "metadata": {},
   "outputs": [],
   "source": [
    "# Busca simples por um termo\n",
    "search = 'Star Trek'\n",
    "\n",
    "resp = es.search(index=\"teste-ramon\", from_=0, size=3,  query={\n",
    "    'match': {\n",
    "        'title': f\"{search}\"\n",
    "    }\n",
    "})"
   ]
  },
  {
   "cell_type": "code",
   "execution_count": 16,
   "metadata": {},
   "outputs": [
    {
     "data": {
      "text/plain": [
       "{'genre': 'sci-fi', 'title': 'Star Trek', 'year': 2011}"
      ]
     },
     "execution_count": 16,
     "metadata": {},
     "output_type": "execute_result"
    }
   ],
   "source": [
    "resp['hits']['hits'][0]['_source']"
   ]
  },
  {
   "cell_type": "code",
   "execution_count": 17,
   "metadata": {},
   "outputs": [
    {
     "data": {
      "text/plain": [
       "[{'_index': 'teste-ramon',\n",
       "  '_id': '7',\n",
       "  '_score': 3.2834144,\n",
       "  '_source': {'genre': 'sci-fi', 'title': 'Star Trek', 'year': 2011}},\n",
       " {'_index': 'teste-ramon',\n",
       "  '_id': '1',\n",
       "  '_score': 1.3862942,\n",
       "  '_source': {'genre': 'sci-fi', 'title': 'Star Wars', 'year': 2005}}]"
      ]
     },
     "execution_count": 17,
     "metadata": {},
     "output_type": "execute_result"
    }
   ],
   "source": [
    "resp['hits']['hits']"
   ]
  },
  {
   "attachments": {},
   "cell_type": "markdown",
   "metadata": {},
   "source": [
    "## Busca simples, mas com analyzers"
   ]
  },
  {
   "cell_type": "code",
   "execution_count": 18,
   "metadata": {},
   "outputs": [
    {
     "name": "stderr",
     "output_type": "stream",
     "text": [
      "/tmp/ipykernel_68928/1320450968.py:1: DeprecationWarning: Passing transport options in the API method is deprecated. Use 'Elasticsearch.options()' instead.\n",
      "  es.indices.delete(index='teste-ramon', ignore=[400, 404])\n"
     ]
    },
    {
     "data": {
      "text/plain": [
       "ObjectApiResponse({'acknowledged': True})"
      ]
     },
     "execution_count": 18,
     "metadata": {},
     "output_type": "execute_result"
    }
   ],
   "source": [
    "es.indices.delete(index='teste-ramon', ignore=[400, 404])"
   ]
  },
  {
   "cell_type": "code",
   "execution_count": 19,
   "metadata": {},
   "outputs": [],
   "source": [
    "mappings = {\n",
    "    'properties':{\n",
    "        'genre': {'type': 'keyword', 'analyzer': 'english'},\n",
    "        'title': {'type': 'text'},\n",
    "        'date': {'type': 'date'}\n",
    "    }\n",
    "}"
   ]
  },
  {
   "cell_type": "code",
   "execution_count": 20,
   "metadata": {},
   "outputs": [
    {
     "name": "stderr",
     "output_type": "stream",
     "text": [
      "/tmp/ipykernel_68928/588249552.py:1: DeprecationWarning: Passing transport options in the API method is deprecated. Use 'Elasticsearch.options()' instead.\n",
      "  es.indices.create(index='teste-ramon', mappings=mappings, ignore=400)\n"
     ]
    },
    {
     "data": {
      "text/plain": [
       "ObjectApiResponse({'error': {'root_cause': [{'type': 'mapper_parsing_exception', 'reason': 'unknown parameter [analyzer] on mapper [genre] of type [keyword]'}], 'type': 'mapper_parsing_exception', 'reason': 'Failed to parse mapping: unknown parameter [analyzer] on mapper [genre] of type [keyword]', 'caused_by': {'type': 'mapper_parsing_exception', 'reason': 'unknown parameter [analyzer] on mapper [genre] of type [keyword]'}}, 'status': 400})"
      ]
     },
     "execution_count": 20,
     "metadata": {},
     "output_type": "execute_result"
    }
   ],
   "source": [
    "es.indices.create(index='teste-ramon', mappings=mappings, ignore=400)"
   ]
  },
  {
   "cell_type": "code",
   "execution_count": 21,
   "metadata": {},
   "outputs": [
    {
     "data": {
      "text/plain": [
       "(8, [])"
      ]
     },
     "execution_count": 21,
     "metadata": {},
     "output_type": "execute_result"
    }
   ],
   "source": [
    "helpers.bulk(es, generate_docs())"
   ]
  },
  {
   "cell_type": "code",
   "execution_count": 22,
   "metadata": {},
   "outputs": [],
   "source": [
    "# Busca simples por um termo\n",
    "search = 'Sci-fi'\n",
    "\n",
    "resp = es.search(index=\"teste-ramon\", from_=0, size=3,  query={\n",
    "    'match': {\n",
    "        'genre': f\"{search}\"\n",
    "    }\n",
    "})"
   ]
  },
  {
   "cell_type": "code",
   "execution_count": 23,
   "metadata": {},
   "outputs": [
    {
     "data": {
      "text/plain": [
       "[{'_index': 'teste-ramon',\n",
       "  '_id': '1',\n",
       "  '_score': 1.6622524,\n",
       "  '_source': {'genre': 'sci-fi', 'title': 'Star Wars', 'year': 2005}},\n",
       " {'_index': 'teste-ramon',\n",
       "  '_id': '7',\n",
       "  '_score': 1.6622524,\n",
       "  '_source': {'genre': 'sci-fi', 'title': 'Star Trek', 'year': 2011}},\n",
       " {'_index': 'teste-ramon',\n",
       "  '_id': '2',\n",
       "  '_score': 1.3405261,\n",
       "  '_source': {'genre': ['sci-fi', 'IMAX'],\n",
       "   'title': 'Insterstellar',\n",
       "   'year': 2014}}]"
      ]
     },
     "execution_count": 23,
     "metadata": {},
     "output_type": "execute_result"
    }
   ],
   "source": [
    "resp['hits']['hits']"
   ]
  },
  {
   "attachments": {},
   "cell_type": "markdown",
   "metadata": {},
   "source": [
    "## Filters, must == and"
   ]
  },
  {
   "cell_type": "code",
   "execution_count": 26,
   "metadata": {},
   "outputs": [],
   "source": [
    "resp = es.search(index=\"teste-ramon\", from_=0, size=3,  query={\n",
    "    'bool': {\n",
    "        'must': {\"term\":{'title': 'star'}},\n",
    "        'filter': {'range':{'year': {'gte': 2000}}}\n",
    "    }\n",
    "})"
   ]
  },
  {
   "cell_type": "code",
   "execution_count": 27,
   "metadata": {},
   "outputs": [
    {
     "data": {
      "text/plain": [
       "[{'_index': 'teste-ramon',\n",
       "  '_id': '1',\n",
       "  '_score': 1.3125186,\n",
       "  '_source': {'genre': 'sci-fi', 'title': 'Star Wars', 'year': 2005}},\n",
       " {'_index': 'teste-ramon',\n",
       "  '_id': '7',\n",
       "  '_score': 1.3125186,\n",
       "  '_source': {'genre': 'sci-fi', 'title': 'Star Trek', 'year': 2011}}]"
      ]
     },
     "execution_count": 27,
     "metadata": {},
     "output_type": "execute_result"
    }
   ],
   "source": [
    "resp['hits']['hits']"
   ]
  },
  {
   "attachments": {},
   "cell_type": "markdown",
   "metadata": {},
   "source": [
    "## Filters, should == OR"
   ]
  },
  {
   "cell_type": "code",
   "execution_count": 40,
   "metadata": {},
   "outputs": [],
   "source": [
    "resp = es.search(index=\"teste-ramon\", from_=0, size=3,  query={\n",
    "    'bool': {\n",
    "        'should': {\"term\":{'title': 'toy'}},\n",
    "        'filter': {'term': {'genre': 'sci'}},\n",
    "        'filter': {'range': {'year': {'gte': 2006}}}\n",
    "    }\n",
    "})"
   ]
  },
  {
   "cell_type": "code",
   "execution_count": 41,
   "metadata": {},
   "outputs": [
    {
     "data": {
      "text/plain": [
       "[{'_index': 'teste-ramon',\n",
       "  '_id': '2',\n",
       "  '_score': 0.0,\n",
       "  '_source': {'genre': ['sci-fi', 'IMAX'],\n",
       "   'title': 'Insterstellar',\n",
       "   'year': 2014}},\n",
       " {'_index': 'teste-ramon',\n",
       "  '_id': '5',\n",
       "  '_score': 0.0,\n",
       "  '_source': {'genre': 'terror', 'title': 'Terrifier 2', 'year': 2022}},\n",
       " {'_index': 'teste-ramon',\n",
       "  '_id': '6',\n",
       "  '_score': 0.0,\n",
       "  '_source': {'genre': 'terror', 'title': 'Terrifier', 'year': 2019}}]"
      ]
     },
     "execution_count": 41,
     "metadata": {},
     "output_type": "execute_result"
    }
   ],
   "source": [
    "resp['hits']['hits']"
   ]
  },
  {
   "attachments": {},
   "cell_type": "markdown",
   "metadata": {},
   "source": [
    "## Filters, must_not == NOT"
   ]
  },
  {
   "cell_type": "code",
   "execution_count": 42,
   "metadata": {},
   "outputs": [],
   "source": [
    "resp = es.search(index=\"teste-ramon\", from_=0, size=3,  query={\n",
    "    'bool': {\n",
    "        'must_not': {\"term\":{'title': 'toy'}},\n",
    "        'filter': {'term': {'genre': 'sci'}}\n",
    "    }\n",
    "})"
   ]
  },
  {
   "cell_type": "code",
   "execution_count": 43,
   "metadata": {},
   "outputs": [
    {
     "data": {
      "text/plain": [
       "[{'_index': 'teste-ramon',\n",
       "  '_id': '1',\n",
       "  '_score': 0.0,\n",
       "  '_source': {'genre': 'sci-fi', 'title': 'Star Wars', 'year': 2005}},\n",
       " {'_index': 'teste-ramon',\n",
       "  '_id': '2',\n",
       "  '_score': 0.0,\n",
       "  '_source': {'genre': ['sci-fi', 'IMAX'],\n",
       "   'title': 'Insterstellar',\n",
       "   'year': 2014}},\n",
       " {'_index': 'teste-ramon',\n",
       "  '_id': '7',\n",
       "  '_score': 0.0,\n",
       "  '_source': {'genre': 'sci-fi', 'title': 'Star Trek', 'year': 2011}}]"
      ]
     },
     "execution_count": 43,
     "metadata": {},
     "output_type": "execute_result"
    }
   ],
   "source": [
    "resp['hits']['hits']"
   ]
  },
  {
   "attachments": {},
   "cell_type": "markdown",
   "metadata": {},
   "source": [
    "## Match Phrase"
   ]
  },
  {
   "cell_type": "code",
   "execution_count": 51,
   "metadata": {},
   "outputs": [],
   "source": [
    "resp = es.search(index=\"teste-ramon\", from_=0, size=3,  query={\n",
    "    'match_phrase': {\n",
    "        'title': 'Star wars',\n",
    "    }\n",
    "})"
   ]
  },
  {
   "cell_type": "code",
   "execution_count": 52,
   "metadata": {},
   "outputs": [
    {
     "data": {
      "text/plain": [
       "[{'_index': 'teste-ramon',\n",
       "  '_id': '1',\n",
       "  '_score': 3.1484585,\n",
       "  '_source': {'genre': 'sci-fi', 'title': 'Star Wars', 'year': 2005}}]"
      ]
     },
     "execution_count": 52,
     "metadata": {},
     "output_type": "execute_result"
    }
   ],
   "source": [
    "resp['hits']['hits']"
   ]
  },
  {
   "attachments": {},
   "cell_type": "markdown",
   "metadata": {},
   "source": [
    "## Match Phrase com slop"
   ]
  },
  {
   "cell_type": "code",
   "execution_count": 61,
   "metadata": {},
   "outputs": [],
   "source": [
    "resp = es.search(index=\"teste-ramon\", from_=0, size=3,  query={\n",
    "    'match_phrase': {\n",
    "        'title': {'query': 'Star wars', 'slop':2}\n",
    "    }\n",
    "})"
   ]
  },
  {
   "cell_type": "code",
   "execution_count": 62,
   "metadata": {},
   "outputs": [
    {
     "data": {
      "text/plain": [
       "[{'_index': 'teste-ramon',\n",
       "  '_id': '1',\n",
       "  '_score': 3.1484585,\n",
       "  '_source': {'genre': 'sci-fi', 'title': 'Star Wars', 'year': 2005}}]"
      ]
     },
     "execution_count": 62,
     "metadata": {},
     "output_type": "execute_result"
    }
   ],
   "source": [
    "resp['hits']['hits']"
   ]
  },
  {
   "attachments": {},
   "cell_type": "markdown",
   "metadata": {},
   "source": [
    "## Fuzziness"
   ]
  },
  {
   "cell_type": "code",
   "execution_count": 83,
   "metadata": {},
   "outputs": [],
   "source": [
    "resp = es.search(index=\"teste-ramon\", from_=0, size=3,  query={\n",
    "    'fuzzy': {\n",
    "        'title': {'value': 'Instersteller', 'fuzziness': \"AUTO\"}\n",
    "    }\n",
    "})"
   ]
  },
  {
   "cell_type": "code",
   "execution_count": 84,
   "metadata": {},
   "outputs": [
    {
     "data": {
      "text/plain": [
       "[{'_index': 'teste-ramon',\n",
       "  '_id': '2',\n",
       "  '_score': 1.9352322,\n",
       "  '_source': {'genre': ['sci-fi', 'IMAX'],\n",
       "   'title': 'Insterstellar',\n",
       "   'year': 2014}}]"
      ]
     },
     "execution_count": 84,
     "metadata": {},
     "output_type": "execute_result"
    }
   ],
   "source": [
    "resp['hits']['hits']"
   ]
  },
  {
   "attachments": {},
   "cell_type": "markdown",
   "metadata": {},
   "source": [
    "## Partial Matches"
   ]
  },
  {
   "attachments": {},
   "cell_type": "markdown",
   "metadata": {},
   "source": [
    "### Prefix"
   ]
  },
  {
   "cell_type": "code",
   "execution_count": 99,
   "metadata": {},
   "outputs": [],
   "source": [
    "resp = es.search(index=\"teste-ramon\", from_=0, size=3,  query={\n",
    "    'prefix': {\n",
    "        'genre': 'ter'\n",
    "    }\n",
    "})"
   ]
  },
  {
   "cell_type": "code",
   "execution_count": 100,
   "metadata": {},
   "outputs": [
    {
     "data": {
      "text/plain": [
       "[{'_index': 'teste-ramon',\n",
       "  '_id': '5',\n",
       "  '_score': 1.0,\n",
       "  '_source': {'genre': 'terror', 'title': 'Terrifier 2', 'year': 2022}},\n",
       " {'_index': 'teste-ramon',\n",
       "  '_id': '6',\n",
       "  '_score': 1.0,\n",
       "  '_source': {'genre': 'terror', 'title': 'Terrifier', 'year': 2019}}]"
      ]
     },
     "execution_count": 100,
     "metadata": {},
     "output_type": "execute_result"
    }
   ],
   "source": [
    "resp['hits']['hits']"
   ]
  },
  {
   "attachments": {},
   "cell_type": "markdown",
   "metadata": {},
   "source": [
    "### Wildcards"
   ]
  },
  {
   "cell_type": "code",
   "execution_count": 105,
   "metadata": {},
   "outputs": [],
   "source": [
    "resp = es.search(index=\"teste-ramon\", from_=0, size=3,  query={\n",
    "    'wildcard': {\n",
    "        'genre': 'i*'\n",
    "    }\n",
    "})"
   ]
  },
  {
   "cell_type": "code",
   "execution_count": 106,
   "metadata": {},
   "outputs": [
    {
     "data": {
      "text/plain": [
       "[{'_index': 'teste-ramon',\n",
       "  '_id': '2',\n",
       "  '_score': 1.0,\n",
       "  '_source': {'genre': ['sci-fi', 'IMAX'],\n",
       "   'title': 'Insterstellar',\n",
       "   'year': 2014}}]"
      ]
     },
     "execution_count": 106,
     "metadata": {},
     "output_type": "execute_result"
    }
   ],
   "source": [
    "resp['hits']['hits']"
   ]
  }
 ],
 "metadata": {
  "kernelspec": {
   "display_name": "Python 3",
   "language": "python",
   "name": "python3"
  },
  "language_info": {
   "codemirror_mode": {
    "name": "ipython",
    "version": 3
   },
   "file_extension": ".py",
   "mimetype": "text/x-python",
   "name": "python",
   "nbconvert_exporter": "python",
   "pygments_lexer": "ipython3",
   "version": "3.10.6"
  },
  "orig_nbformat": 4
 },
 "nbformat": 4,
 "nbformat_minor": 2
}
