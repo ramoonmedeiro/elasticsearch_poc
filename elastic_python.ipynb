{
 "cells": [
  {
   "cell_type": "code",
   "execution_count": 80,
   "metadata": {},
   "outputs": [],
   "source": [
    "# Data manipulation\n",
    "import pandas as pd\n",
    "import numpy as np\n",
    "\n",
    "# Elasticsearch API python\n",
    "from elasticsearch import Elasticsearch\n",
    "from elasticsearch import helpers\n",
    "\n",
    "# Env. Vars\n",
    "from dotenv import load_dotenv\n",
    "\n",
    "# System\n",
    "import os"
   ]
  },
  {
   "cell_type": "code",
   "execution_count": 81,
   "metadata": {},
   "outputs": [],
   "source": [
    "# Create the client instance\n",
    "load_dotenv('.env')\n",
    "\n",
    "host=os.getenv('ELASTICSEARCH_HOST')\n",
    "passwd = os.getenv('ELASTICSEARCH_PASSWORD')\n",
    "\n",
    "es = Elasticsearch([f'{host}:9200'],\n",
    "basic_auth=('elastic', passwd)\n",
    ")"
   ]
  },
  {
   "attachments": {},
   "cell_type": "markdown",
   "metadata": {},
   "source": [
    "### Criação e deleção de indíces"
   ]
  },
  {
   "cell_type": "code",
   "execution_count": null,
   "metadata": {},
   "outputs": [],
   "source": [
    "# Criar index\n",
    "es.indices.create(index='teste-ramon', ignore=400)"
   ]
  },
  {
   "cell_type": "code",
   "execution_count": null,
   "metadata": {},
   "outputs": [],
   "source": [
    "# Criando index especificando o mapping e settings.\n",
    "es.indices.create(index='teste-ramon', mappings=mappings, settings=settings, ignore=400)"
   ]
  },
  {
   "cell_type": "code",
   "execution_count": null,
   "metadata": {},
   "outputs": [],
   "source": [
    "# Deletando index\n",
    "es.indices.delete(index='teste-ramon', ignore=[400, 404])"
   ]
  },
  {
   "attachments": {},
   "cell_type": "markdown",
   "metadata": {},
   "source": [
    "### Informações sobre os index"
   ]
  },
  {
   "cell_type": "code",
   "execution_count": null,
   "metadata": {},
   "outputs": [],
   "source": [
    "# Informações gerais da conexão do ES\n",
    "es.info()"
   ]
  },
  {
   "cell_type": "code",
   "execution_count": 85,
   "metadata": {},
   "outputs": [
    {
     "name": "stderr",
     "output_type": "stream",
     "text": [
      "/tmp/ipykernel_46245/878788703.py:1: ElasticsearchWarning: this request accesses system indices: [.kibana_task_manager_8.6.0_001, .kibana_security_session_1, .apm-custom-link, .security-profile-8, .transform-internal-007, .fleet-enrollment-api-keys-7, .kibana_8.6.0_001, .apm-agent-configuration, .security-7, .fleet-policies-7], but in a future major version, direct access to system indices will be prevented by default\n",
      "  es.indices.get_alias(index=\"*\")\n"
     ]
    },
    {
     "data": {
      "text/plain": [
       "ObjectApiResponse({'.kibana_task_manager_8.6.0_001': {'aliases': {'.kibana_task_manager': {'is_hidden': True}, '.kibana_task_manager_8.6.0': {'is_hidden': True}}}, '.kibana_security_session_1': {'aliases': {'.kibana_security_session': {'is_hidden': True}}}, '.items-default-000001': {'aliases': {'.items-default': {'is_write_index': True}}}, 'produtos_cayena_testes_outer': {'aliases': {}}, 'produtos_cayena_train': {'aliases': {}}, 'felipe_teste': {'aliases': {}}, '.apm-custom-link': {'aliases': {}}, '.security-profile-8': {'aliases': {'.security-profile': {'is_hidden': True}}}, 'search_app_cayena': {'aliases': {}}, '.transform-notifications-000002': {'aliases': {'.transform-notifications-read': {'is_hidden': True}}}, 'produtos_cayena': {'aliases': {}}, '.transform-internal-007': {'aliases': {}}, '.fleet-enrollment-api-keys-7': {'aliases': {'.fleet-enrollment-api-keys': {'is_write_index': True, 'is_hidden': True}}}, '.lists-default-000001': {'aliases': {'.lists-default': {'is_write_index': True}}}, 'produtos_cayena_pm': {'aliases': {}}, 'validacao_cruzada_pm': {'aliases': {}}, '.kibana_8.6.0_001': {'aliases': {'.kibana': {'is_hidden': True}, '.kibana_8.6.0': {'is_hidden': True}}}, '.apm-agent-configuration': {'aliases': {}}, 'metrics-endpoint.metadata_current_default': {'aliases': {}}, '.security-7': {'aliases': {'.security': {'is_hidden': True}}}, '.kibana-event-log-8.6.0-000001': {'aliases': {'.kibana-event-log-8.6.0': {'is_write_index': False, 'is_hidden': True}}}, 'teste-ramon': {'aliases': {}}, 'ramon-teste': {'aliases': {}}, '.fleet-policies-7': {'aliases': {'.fleet-policies': {'is_write_index': True, 'is_hidden': True}}}, '.kibana-event-log-8.6.0-000002': {'aliases': {'.kibana-event-log-8.6.0': {'is_write_index': True, 'is_hidden': True}}}, '.metrics-endpoint.metadata_united_default': {'aliases': {}}})"
      ]
     },
     "execution_count": 85,
     "metadata": {},
     "output_type": "execute_result"
    }
   ],
   "source": [
    "# Ver todos os índices da instância\n",
    "es.indices.get_alias(index=\"*\")"
   ]
  },
  {
   "cell_type": "code",
   "execution_count": 121,
   "metadata": {},
   "outputs": [
    {
     "data": {
      "text/plain": [
       "ObjectApiResponse({'count': 6, '_shards': {'total': 1, 'successful': 1, 'skipped': 0, 'failed': 0}})"
      ]
     },
     "execution_count": 121,
     "metadata": {},
     "output_type": "execute_result"
    }
   ],
   "source": [
    "# Contar o número de documentos de uma outra forma\n",
    "es.count(index='teste-ramon')"
   ]
  },
  {
   "cell_type": "code",
   "execution_count": 122,
   "metadata": {},
   "outputs": [
    {
     "data": {
      "text/plain": [
       "TextApiResponse('1678328272 02:17:52 6\\n')"
      ]
     },
     "execution_count": 122,
     "metadata": {},
     "output_type": "execute_result"
    }
   ],
   "source": [
    "# Contar o número de documentos em um dado index\n",
    "es.cat.count(index='teste-ramon')"
   ]
  },
  {
   "cell_type": "code",
   "execution_count": 96,
   "metadata": {},
   "outputs": [
    {
     "data": {
      "text/plain": [
       "ObjectApiResponse({'_shards': {'total': 2, 'successful': 1, 'failed': 0}})"
      ]
     },
     "execution_count": 96,
     "metadata": {},
     "output_type": "execute_result"
    }
   ],
   "source": [
    "# Refresh index\n",
    "es.indices.refresh(index='teste-ramon')"
   ]
  },
  {
   "cell_type": "code",
   "execution_count": 84,
   "metadata": {},
   "outputs": [
    {
     "data": {
      "text/plain": [
       "ObjectApiResponse({'teste-ramon': {'aliases': {}, 'mappings': {'properties': {'Email': {'type': 'text', 'fields': {'keyword': {'type': 'keyword', 'ignore_above': 256}}}, 'Nome': {'type': 'text', 'fields': {'keyword': {'type': 'keyword', 'ignore_above': 256}}}, 'Skills': {'type': 'text', 'fields': {'keyword': {'type': 'keyword', 'ignore_above': 256}}}, 'Sobrenome': {'type': 'text', 'fields': {'keyword': {'type': 'keyword', 'ignore_above': 256}}}, 'genre': {'type': 'text', 'fields': {'keyword': {'type': 'keyword', 'ignore_above': 256}}}, 'timestamp': {'type': 'date'}, 'title': {'type': 'text', 'fields': {'keyword': {'type': 'keyword', 'ignore_above': 256}}}, 'year': {'type': 'long'}}}, 'settings': {'index': {'routing': {'allocation': {'include': {'_tier_preference': 'data_content'}}}, 'number_of_shards': '1', 'provided_name': 'teste-ramon', 'creation_date': '1678275308280', 'number_of_replicas': '1', 'uuid': 'D2Bpl-D_Rq6HQeYUbz9rJw', 'version': {'created': '8060099'}}}}})"
      ]
     },
     "execution_count": 84,
     "metadata": {},
     "output_type": "execute_result"
    }
   ],
   "source": [
    "# Informações sobre um index em específico\n",
    "es.indices.get(index=\"teste-ramon\")"
   ]
  },
  {
   "attachments": {},
   "cell_type": "markdown",
   "metadata": {},
   "source": [
    "### Criando index manualmente (um a um)"
   ]
  },
  {
   "cell_type": "code",
   "execution_count": 23,
   "metadata": {},
   "outputs": [],
   "source": [
    "doc = {\n",
    "    'genre': ['IMAX', 'sci-fi'],\n",
    "    'title': 'Insterstellar',\n",
    "    'year': 2014\n",
    "}"
   ]
  },
  {
   "cell_type": "code",
   "execution_count": 24,
   "metadata": {},
   "outputs": [
    {
     "data": {
      "text/plain": [
       "ObjectApiResponse({'_index': 'teste-ramon', '_id': '1', '_version': 3, 'result': 'created', '_shards': {'total': 2, 'successful': 1, 'failed': 0}, '_seq_no': 5, '_primary_term': 1})"
      ]
     },
     "execution_count": 24,
     "metadata": {},
     "output_type": "execute_result"
    }
   ],
   "source": [
    "es.index(index='teste-ramon', id=1, document=doc)"
   ]
  },
  {
   "cell_type": "code",
   "execution_count": 22,
   "metadata": {},
   "outputs": [
    {
     "data": {
      "text/plain": [
       "ObjectApiResponse({'_index': 'teste-ramon', '_id': '1', '_version': 2, 'result': 'deleted', '_shards': {'total': 2, 'successful': 1, 'failed': 0}, '_seq_no': 4, '_primary_term': 1})"
      ]
     },
     "execution_count": 22,
     "metadata": {},
     "output_type": "execute_result"
    }
   ],
   "source": [
    "# Removendo um filme com id=1\n",
    "es.delete(index='teste-ramon', id=1)"
   ]
  },
  {
   "cell_type": "code",
   "execution_count": 101,
   "metadata": {},
   "outputs": [
    {
     "data": {
      "text/plain": [
       "{'genre': 'terror', 'title': 'Terrifier 2', 'year': 2022}"
      ]
     },
     "execution_count": 101,
     "metadata": {},
     "output_type": "execute_result"
    }
   ],
   "source": [
    "# Consulta do conteúdo no id=1 e no index='teste-ramon'\n",
    "res2 = es.get(index='teste-ramon', id=4)\n",
    "res2['_source']"
   ]
  },
  {
   "attachments": {},
   "cell_type": "markdown",
   "metadata": {},
   "source": [
    "### Adicionando vários filmes"
   ]
  },
  {
   "cell_type": "code",
   "execution_count": 102,
   "metadata": {},
   "outputs": [],
   "source": [
    "d = [\n",
    "    ['action', 'The Davinci Code', 2005],\n",
    "    [['sci-fi', 'IMAX'], 'Insterstellar', 2014],\n",
    "    ['kids', 'Toy Story 1', 1995],\n",
    "    ['kids', 'The Lion King', 1998],\n",
    "    ['terror', 'Terrifier 2', 2022],\n",
    "    ['terror', 'Terrifier', 2019]\n",
    "]"
   ]
  },
  {
   "cell_type": "code",
   "execution_count": 103,
   "metadata": {},
   "outputs": [],
   "source": [
    "filmes = pd.DataFrame(data=d, columns=['genre', 'title', 'year'])"
   ]
  },
  {
   "cell_type": "code",
   "execution_count": 104,
   "metadata": {},
   "outputs": [
    {
     "data": {
      "text/html": [
       "<div>\n",
       "<style scoped>\n",
       "    .dataframe tbody tr th:only-of-type {\n",
       "        vertical-align: middle;\n",
       "    }\n",
       "\n",
       "    .dataframe tbody tr th {\n",
       "        vertical-align: top;\n",
       "    }\n",
       "\n",
       "    .dataframe thead th {\n",
       "        text-align: right;\n",
       "    }\n",
       "</style>\n",
       "<table border=\"1\" class=\"dataframe\">\n",
       "  <thead>\n",
       "    <tr style=\"text-align: right;\">\n",
       "      <th></th>\n",
       "      <th>genre</th>\n",
       "      <th>title</th>\n",
       "      <th>year</th>\n",
       "    </tr>\n",
       "  </thead>\n",
       "  <tbody>\n",
       "    <tr>\n",
       "      <th>0</th>\n",
       "      <td>action</td>\n",
       "      <td>The Davinci Code</td>\n",
       "      <td>2005</td>\n",
       "    </tr>\n",
       "    <tr>\n",
       "      <th>1</th>\n",
       "      <td>[sci-fi, IMAX]</td>\n",
       "      <td>Insterstellar</td>\n",
       "      <td>2014</td>\n",
       "    </tr>\n",
       "    <tr>\n",
       "      <th>2</th>\n",
       "      <td>kids</td>\n",
       "      <td>Toy Story 1</td>\n",
       "      <td>1995</td>\n",
       "    </tr>\n",
       "    <tr>\n",
       "      <th>3</th>\n",
       "      <td>kids</td>\n",
       "      <td>The Lion King</td>\n",
       "      <td>1998</td>\n",
       "    </tr>\n",
       "    <tr>\n",
       "      <th>4</th>\n",
       "      <td>terror</td>\n",
       "      <td>Terrifier 2</td>\n",
       "      <td>2022</td>\n",
       "    </tr>\n",
       "    <tr>\n",
       "      <th>5</th>\n",
       "      <td>terror</td>\n",
       "      <td>Terrifier</td>\n",
       "      <td>2019</td>\n",
       "    </tr>\n",
       "  </tbody>\n",
       "</table>\n",
       "</div>"
      ],
      "text/plain": [
       "            genre             title  year\n",
       "0          action  The Davinci Code  2005\n",
       "1  [sci-fi, IMAX]     Insterstellar  2014\n",
       "2            kids       Toy Story 1  1995\n",
       "3            kids     The Lion King  1998\n",
       "4          terror       Terrifier 2  2022\n",
       "5          terror         Terrifier  2019"
      ]
     },
     "execution_count": 104,
     "metadata": {},
     "output_type": "execute_result"
    }
   ],
   "source": [
    "filmes"
   ]
  },
  {
   "cell_type": "code",
   "execution_count": 105,
   "metadata": {},
   "outputs": [
    {
     "data": {
      "text/plain": [
       "(6, [])"
      ]
     },
     "execution_count": 105,
     "metadata": {},
     "output_type": "execute_result"
    }
   ],
   "source": [
    "def generate_docs():\n",
    "    for idx, info in filmes.iterrows():\n",
    "        doc = {\n",
    "            '_index': 'teste-ramon',\n",
    "            '_id': idx,\n",
    "            '_source': {\n",
    "                'genre': info['genre'],\n",
    "                'title': info['title'],\n",
    "                'year': info['year']\n",
    "            }\n",
    "        }\n",
    "\n",
    "        yield doc\n",
    "\n",
    "helpers.bulk(es, generate_docs())"
   ]
  },
  {
   "attachments": {},
   "cell_type": "markdown",
   "metadata": {},
   "source": [
    "### Buscas"
   ]
  },
  {
   "cell_type": "code",
   "execution_count": 117,
   "metadata": {},
   "outputs": [],
   "source": [
    "# Busca simples por um termo\n",
    "search = 'Toy Story'\n",
    "\n",
    "resp = es.search(index=\"teste-ramon\", from_=0, size=1,  query={\n",
    "    'match': {\n",
    "        'title': f\"{search}\"\n",
    "    }\n",
    "})"
   ]
  },
  {
   "cell_type": "code",
   "execution_count": 118,
   "metadata": {},
   "outputs": [
    {
     "data": {
      "text/plain": [
       "{'genre': 'kids', 'title': 'Toy Story 1', 'year': 1995}"
      ]
     },
     "execution_count": 118,
     "metadata": {},
     "output_type": "execute_result"
    }
   ],
   "source": [
    "resp['hits']['hits'][0]['_source']"
   ]
  }
 ],
 "metadata": {
  "kernelspec": {
   "display_name": "Python 3",
   "language": "python",
   "name": "python3"
  },
  "language_info": {
   "codemirror_mode": {
    "name": "ipython",
    "version": 3
   },
   "file_extension": ".py",
   "mimetype": "text/x-python",
   "name": "python",
   "nbconvert_exporter": "python",
   "pygments_lexer": "ipython3",
   "version": "3.10.6"
  },
  "orig_nbformat": 4
 },
 "nbformat": 4,
 "nbformat_minor": 2
}
